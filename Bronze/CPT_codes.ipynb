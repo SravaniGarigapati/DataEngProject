{
 "cells": [
  {
   "cell_type": "code",
   "execution_count": 0,
   "metadata": {
    "application/vnd.databricks.v1+cell": {
     "cellMetadata": {
      "byteLimit": 2048000,
      "rowLimit": 10000
     },
     "inputWidgets": {},
     "nuid": "8f01df53-2230-455d-88cd-d04bbee7fa2e",
     "showTitle": false,
     "tableResultSettingsMap": {},
     "title": ""
    }
   },
   "outputs": [],
   "source": [
    "\n",
    "from pyspark.sql import SparkSession, functions as f\n",
    "\n",
    "# Read the CSV file\n",
    "cptcodes_df = spark.read.csv(\"/mnt/landing/cpt_codes/*.csv\", header=True)\n",
    "\n",
    "# Replace whitespaces in column names with underscores and convert to lowercase\n",
    "for col in cptcodes_df.columns:\n",
    "    new_col = col.replace(\" \", \"_\").lower()\n",
    "    cptcodes_df = cptcodes_df.withColumnRenamed(col, new_col)\n",
    "cptcodes_df.createOrReplaceTempView(\"cptcodes\")\n",
    "display(cptcodes_df)"
   ]
  },
  {
   "cell_type": "code",
   "execution_count": 0,
   "metadata": {
    "application/vnd.databricks.v1+cell": {
     "cellMetadata": {
      "byteLimit": 2048000,
      "rowLimit": 10000
     },
     "inputWidgets": {},
     "nuid": "eab8ce02-6e84-4da9-8b9a-af398d4fa54d",
     "showTitle": false,
     "tableResultSettingsMap": {},
     "title": ""
    }
   },
   "outputs": [],
   "source": [
    "cptcodes_df.write.format(\"parquet\").mode(\"overwrite\").save(\"/mnt/bronze/cpt_codes\")"
   ]
  },
  {
   "cell_type": "code",
   "execution_count": 0,
   "metadata": {
    "application/vnd.databricks.v1+cell": {
     "cellMetadata": {
      "byteLimit": 2048000,
      "implicitDf": true,
      "rowLimit": 10000
     },
     "inputWidgets": {},
     "nuid": "e119e1cd-e9a3-428f-866b-d3a68bacb93c",
     "showTitle": false,
     "tableResultSettingsMap": {},
     "title": ""
    }
   },
   "outputs": [],
   "source": [
    "%sql\n",
    "\n",
    "-- Create a temporary view with data quality checks for CPT codes\n",
    "CREATE OR REPLACE TEMP VIEW quality_checks AS\n",
    "SELECT \n",
    "  cpt_codes,\n",
    "  procedure_code_category,\n",
    "  procedure_code_descriptions,\n",
    "  code_status,\n",
    "  CASE \n",
    "    WHEN cpt_codes IS NULL OR procedure_code_descriptions IS NULL THEN TRUE\n",
    "    ELSE FALSE\n",
    "  END AS is_quarantined\n",
    "FROM cptcodes;\n"
   ]
  },
  {
   "cell_type": "code",
   "execution_count": 0,
   "metadata": {
    "application/vnd.databricks.v1+cell": {
     "cellMetadata": {
      "byteLimit": 2048000,
      "implicitDf": true,
      "rowLimit": 10000
     },
     "inputWidgets": {},
     "nuid": "fa847202-fd4b-4810-9d8b-511e4d448b52",
     "showTitle": false,
     "tableResultSettingsMap": {},
     "title": ""
    }
   },
   "outputs": [],
   "source": [
    "%sql\n",
    "select * from quality_checks"
   ]
  },
  {
   "cell_type": "code",
   "execution_count": 0,
   "metadata": {
    "application/vnd.databricks.v1+cell": {
     "cellMetadata": {
      "byteLimit": 2048000,
      "implicitDf": true,
      "rowLimit": 10000
     },
     "inputWidgets": {},
     "nuid": "10c3c22c-9900-4c8d-b9b1-cce068c7ac4b",
     "showTitle": false,
     "tableResultSettingsMap": {},
     "title": ""
    }
   },
   "outputs": [],
   "source": [
    "%sql\n",
    "\n",
    "-- Create the silver.cptcodes table if it does not exist\n",
    "CREATE TABLE IF NOT EXISTS silver.cptcodes (\n",
    "  cpt_codes STRING,\n",
    "  procedure_code_category STRING,\n",
    "  procedure_code_descriptions STRING,\n",
    "  code_status STRING,\n",
    "  is_quarantined BOOLEAN,\n",
    "  audit_insertdate TIMESTAMP,\n",
    "  audit_modifieddate TIMESTAMP,\n",
    "  is_current BOOLEAN\n",
    ")\n",
    "USING DELTA;\n"
   ]
  },
  {
   "cell_type": "code",
   "execution_count": 0,
   "metadata": {
    "application/vnd.databricks.v1+cell": {
     "cellMetadata": {
      "byteLimit": 2048000,
      "implicitDf": true,
      "rowLimit": 10000
     },
     "inputWidgets": {},
     "nuid": "9d8eeb6f-2f7a-45db-b929-6a72d3162b6f",
     "showTitle": false,
     "tableResultSettingsMap": {},
     "title": ""
    }
   },
   "outputs": [],
   "source": [
    "%sql\n",
    "truncate table silver.cptcodes"
   ]
  },
  {
   "cell_type": "code",
   "execution_count": 0,
   "metadata": {
    "application/vnd.databricks.v1+cell": {
     "cellMetadata": {
      "byteLimit": 2048000,
      "implicitDf": true,
      "rowLimit": 10000
     },
     "inputWidgets": {},
     "nuid": "f8d57dde-5c28-4f01-a5d2-0d94ed502c59",
     "showTitle": false,
     "tableResultSettingsMap": {},
     "title": ""
    }
   },
   "outputs": [],
   "source": [
    "%sql\n",
    "\n",
    "MERGE INTO silver.cptcodes AS target\n",
    "USING quality_checks AS source\n",
    "ON target.cpt_codes = source.cpt_codes AND target.is_current = true\n",
    "WHEN MATCHED AND (\n",
    "  target.procedure_code_category != source.procedure_code_category OR\n",
    "  target.procedure_code_descriptions != source.procedure_code_descriptions OR\n",
    "  target.code_status != source.code_status OR\n",
    "  target.is_quarantined != source.is_quarantined\n",
    ")\n",
    "THEN UPDATE SET\n",
    "  target.is_current = false,\n",
    "  target.audit_modifieddate = current_timestamp()\n"
   ]
  },
  {
   "cell_type": "code",
   "execution_count": 0,
   "metadata": {
    "application/vnd.databricks.v1+cell": {
     "cellMetadata": {
      "byteLimit": 2048000,
      "implicitDf": true,
      "rowLimit": 10000
     },
     "inputWidgets": {},
     "nuid": "e6367a66-3103-4915-a368-c60300e06620",
     "showTitle": false,
     "tableResultSettingsMap": {},
     "title": ""
    }
   },
   "outputs": [],
   "source": [
    "%sql\n",
    "\n",
    "MERGE INTO silver.cptcodes AS target\n",
    "USING quality_checks AS source\n",
    "ON target.cpt_codes = source.cpt_codes AND target.is_current = true\n",
    "WHEN NOT MATCHED THEN\n",
    "INSERT (\n",
    "  cpt_codes,\n",
    "  procedure_code_category,\n",
    "  procedure_code_descriptions,\n",
    "  code_status,\n",
    "  is_quarantined,\n",
    "  audit_insertdate,\n",
    "  audit_modifieddate,\n",
    "  is_current\n",
    ")\n",
    "VALUES (\n",
    "  source.cpt_codes,\n",
    "  source.procedure_code_category,\n",
    "  source.procedure_code_descriptions,\n",
    "  source.code_status,\n",
    "  source.is_quarantined,\n",
    "  current_timestamp(),\n",
    "  current_timestamp(),\n",
    "  true\n",
    ");\n"
   ]
  },
  {
   "cell_type": "code",
   "execution_count": 0,
   "metadata": {
    "application/vnd.databricks.v1+cell": {
     "cellMetadata": {
      "byteLimit": 2048000,
      "implicitDf": true,
      "rowLimit": 10000
     },
     "inputWidgets": {},
     "nuid": "30a8eeed-808c-4ace-af2f-58dfed555f99",
     "showTitle": false,
     "tableResultSettingsMap": {},
     "title": ""
    }
   },
   "outputs": [],
   "source": [
    "%sql\n",
    "select * from  silver.cptcodes"
   ]
  }
 ],
 "metadata": {
  "application/vnd.databricks.v1+notebook": {
   "computePreferences": null,
   "dashboards": [],
   "environmentMetadata": {
    "base_environment": "",
    "environment_version": "2"
   },
   "inputWidgetPreferences": null,
   "language": "python",
   "notebookMetadata": {
    "mostRecentlyExecutedCommandWithImplicitDF": {
     "commandId": 8378728969816637,
     "dataframes": [
      "_sqldf"
     ]
    },
    "pythonIndentUnit": 4
   },
   "notebookName": "CPT_codes",
   "widgets": {}
  },
  "language_info": {
   "name": "python"
  }
 },
 "nbformat": 4,
 "nbformat_minor": 0
}
