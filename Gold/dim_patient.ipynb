{
 "cells": [
  {
   "cell_type": "code",
   "execution_count": 0,
   "metadata": {
    "application/vnd.databricks.v1+cell": {
     "cellMetadata": {
      "byteLimit": 2048000,
      "implicitDf": true,
      "rowLimit": 10000
     },
     "inputWidgets": {},
     "nuid": "95c7b020-db25-406f-82d7-487e6c8510dd",
     "showTitle": false,
     "tableResultSettingsMap": {},
     "title": ""
    }
   },
   "outputs": [],
   "source": [
    "%sql\n",
    "CREATE TABLE IF NOT EXISTS gold.dim_patient (\n",
    "    patient_key STRING,\n",
    "    src_patientid STRING,\n",
    "    firstname STRING,\n",
    "    lastname STRING,\n",
    "    middlename STRING,\n",
    "    ssn STRING,\n",
    "    phonenumber STRING,\n",
    "    gender STRING,\n",
    "    dob DATE,\n",
    "    address STRING,\n",
    "    datasource STRING\n",
    ");\n"
   ]
  },
  {
   "cell_type": "code",
   "execution_count": 0,
   "metadata": {
    "application/vnd.databricks.v1+cell": {
     "cellMetadata": {
      "byteLimit": 2048000,
      "implicitDf": true,
      "rowLimit": 10000
     },
     "inputWidgets": {},
     "nuid": "ffcba632-e032-41f3-b244-18ae993e3bb6",
     "showTitle": false,
     "tableResultSettingsMap": {},
     "title": ""
    }
   },
   "outputs": [],
   "source": [
    "%sql\n",
    "truncate TABLE gold.dim_patient "
   ]
  },
  {
   "cell_type": "code",
   "execution_count": 0,
   "metadata": {
    "application/vnd.databricks.v1+cell": {
     "cellMetadata": {
      "byteLimit": 2048000,
      "implicitDf": true,
      "rowLimit": 10000
     },
     "inputWidgets": {},
     "nuid": "a58f0e3e-1bbf-42d2-a376-6fe5204434d7",
     "showTitle": false,
     "tableResultSettingsMap": {},
     "title": ""
    }
   },
   "outputs": [],
   "source": [
    "%sql\n",
    "INSERT INTO gold.dim_patient\n",
    "SELECT \n",
    "    patient_key,\n",
    "    src_patientid,\n",
    "    firstname,\n",
    "    lastname,\n",
    "    middlename,\n",
    "    ssn,\n",
    "    phonenumber,\n",
    "    gender,\n",
    "    dob,\n",
    "    address,\n",
    "    datasource\n",
    "FROM silver.patients\n",
    "WHERE is_current = true\n",
    "  AND is_quarantined = false;\n"
   ]
  }
 ],
 "metadata": {
  "application/vnd.databricks.v1+notebook": {
   "computePreferences": null,
   "dashboards": [],
   "environmentMetadata": {
    "base_environment": "",
    "environment_version": "2"
   },
   "inputWidgetPreferences": null,
   "language": "python",
   "notebookMetadata": {
    "mostRecentlyExecutedCommandWithImplicitDF": {
     "commandId": 8378728969816657,
     "dataframes": [
      "_sqldf"
     ]
    },
    "pythonIndentUnit": 4
   },
   "notebookName": "dim_patient",
   "widgets": {}
  },
  "language_info": {
   "name": "python"
  }
 },
 "nbformat": 4,
 "nbformat_minor": 0
}
