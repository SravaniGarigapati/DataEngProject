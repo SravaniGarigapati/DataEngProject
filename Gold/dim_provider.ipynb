{
 "cells": [
  {
   "cell_type": "code",
   "execution_count": 0,
   "metadata": {
    "application/vnd.databricks.v1+cell": {
     "cellMetadata": {
      "byteLimit": 2048000,
      "implicitDf": true,
      "rowLimit": 10000
     },
     "inputWidgets": {},
     "nuid": "dceae163-f00b-46e2-967b-7e48f0279233",
     "showTitle": false,
     "tableResultSettingsMap": {},
     "title": ""
    }
   },
   "outputs": [],
   "source": [
    "%sql\n",
    "-- Create gold.dim_provider table if not exists\n",
    "CREATE TABLE IF NOT EXISTS gold.dim_provider (\n",
    "  ProviderID STRING,\n",
    "  FirstName STRING,\n",
    "  LastName STRING,\n",
    "  DeptID STRING,\n",
    "  NPI LONG,\n",
    "  datasource STRING\n",
    ");"
   ]
  },
  {
   "cell_type": "code",
   "execution_count": 0,
   "metadata": {
    "application/vnd.databricks.v1+cell": {
     "cellMetadata": {
      "byteLimit": 2048000,
      "implicitDf": true,
      "rowLimit": 10000
     },
     "inputWidgets": {},
     "nuid": "54bf1ebc-95e1-4d28-ae10-bdd9d5f90b00",
     "showTitle": false,
     "tableResultSettingsMap": {},
     "title": ""
    }
   },
   "outputs": [],
   "source": [
    "%sql\n",
    "-- Truncate existing data in gold.dim_provider\n",
    "TRUNCATE TABLE gold.dim_provider;"
   ]
  },
  {
   "cell_type": "code",
   "execution_count": 0,
   "metadata": {
    "application/vnd.databricks.v1+cell": {
     "cellMetadata": {
      "byteLimit": 2048000,
      "implicitDf": true,
      "rowLimit": 10000
     },
     "inputWidgets": {},
     "nuid": "b046b015-b75d-49b2-9039-b4d5f0b27a5f",
     "showTitle": false,
     "tableResultSettingsMap": {},
     "title": ""
    }
   },
   "outputs": [],
   "source": [
    "%sql\n",
    "-- Insert fresh data from silver.providers with deptid concatenated with datasource\n",
    "INSERT INTO gold.dim_provider\n",
    "SELECT \n",
    "  ProviderID,\n",
    "  FirstName,\n",
    "  LastName,\n",
    "  CONCAT(DeptID, '-', datasource) AS DeptID,\n",
    "  NPI,\n",
    "  datasource\n",
    "FROM silver.providers\n",
    "WHERE is_quarantined = false;"
   ]
  }
 ],
 "metadata": {
  "application/vnd.databricks.v1+notebook": {
   "computePreferences": null,
   "dashboards": [],
   "environmentMetadata": {
    "base_environment": "",
    "environment_version": "2"
   },
   "inputWidgetPreferences": null,
   "language": "python",
   "notebookMetadata": {
    "mostRecentlyExecutedCommandWithImplicitDF": {
     "commandId": 8378728969816661,
     "dataframes": [
      "_sqldf"
     ]
    },
    "pythonIndentUnit": 4
   },
   "notebookName": "dim_provider",
   "widgets": {}
  },
  "language_info": {
   "name": "python"
  }
 },
 "nbformat": 4,
 "nbformat_minor": 0
}
