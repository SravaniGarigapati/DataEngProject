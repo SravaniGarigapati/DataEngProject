{
 "cells": [
  {
   "cell_type": "code",
   "execution_count": 0,
   "metadata": {
    "application/vnd.databricks.v1+cell": {
     "cellMetadata": {
      "byteLimit": 2048000,
      "implicitDf": true,
      "rowLimit": 10000
     },
     "inputWidgets": {},
     "nuid": "7b1439c1-6265-4e32-a261-18b19eb258b5",
     "showTitle": false,
     "tableResultSettingsMap": {},
     "title": ""
    }
   },
   "outputs": [],
   "source": [
    "%sql\n",
    "create table if not exists gold.fact_transactions\n",
    "(\n",
    "  TransactionID string,\n",
    "  SRC_TransactionID string,\n",
    "  EncounterID string,\n",
    "  FK_PatientID string,\n",
    "  FK_ProviderID string,\n",
    "  FK_DeptID string,\n",
    "  ICDCode string,\n",
    "  ProcedureCode string,\n",
    "  VisitType string,\n",
    "  ServiceDate date,\n",
    "  PaidDate date,\n",
    "  Amount double,\n",
    "  PaidAmount double,\n",
    "  AmountType string,\n",
    "  ClaimID string,\n",
    "  datasource string,\n",
    "  refreshed_at timestamp\n",
    ")"
   ]
  },
  {
   "cell_type": "code",
   "execution_count": 0,
   "metadata": {
    "application/vnd.databricks.v1+cell": {
     "cellMetadata": {
      "byteLimit": 2048000,
      "implicitDf": true,
      "rowLimit": 10000
     },
     "inputWidgets": {},
     "nuid": "4562462d-563b-4e37-ba4e-c3a10aa9ec22",
     "showTitle": false,
     "tableResultSettingsMap": {},
     "title": ""
    }
   },
   "outputs": [],
   "source": [
    "%sql\n",
    "truncate table gold.fact_transactions"
   ]
  },
  {
   "cell_type": "code",
   "execution_count": 0,
   "metadata": {
    "application/vnd.databricks.v1+cell": {
     "cellMetadata": {
      "byteLimit": 2048000,
      "implicitDf": true,
      "rowLimit": 10000
     },
     "inputWidgets": {},
     "nuid": "75f4e757-0562-449b-812f-983fca45b952",
     "showTitle": false,
     "tableResultSettingsMap": {},
     "title": ""
    }
   },
   "outputs": [],
   "source": [
    "%sql\n",
    "insert into gold.fact_transactions\n",
    "select \n",
    "  t.TransactionID, \n",
    "  t.SRC_TransactionID,\n",
    "  t.EncounterID,\n",
    "  concat(t.PatientID,'-',t.datasource ) as FK_Patient_ID,\n",
    "  case when t.datasource='hos-a' then concat('H1-',t.providerID) else concat('H2-',t.providerID ) end as FK_Provider_ID, \n",
    "  concat(t.DeptID,'-',t.datasource ) as FK_Dept_ID, \n",
    "  t.ICDCode,\n",
    "  t.ProcedureCode CPT_Code,\n",
    "  t.VisitType,\n",
    "  t.ServiceDate, \n",
    "  t.PaidDate,\n",
    "  t.Amount Charge_Amt, \n",
    "  t.PaidAmount Paid_Amt, \n",
    "  t.AmountType,\n",
    "  t.ClaimID,\n",
    "  t.datasource,\n",
    "  current_timestamp()\n",
    "  from silver.transactions t \n",
    "  where t.is_current=true and t.is_quarantined=false"
   ]
  }
 ],
 "metadata": {
  "application/vnd.databricks.v1+notebook": {
   "computePreferences": null,
   "dashboards": [],
   "environmentMetadata": {
    "base_environment": "",
    "environment_version": "2"
   },
   "inputWidgetPreferences": null,
   "language": "python",
   "notebookMetadata": {
    "mostRecentlyExecutedCommandWithImplicitDF": {
     "commandId": 8378728969816665,
     "dataframes": [
      "_sqldf"
     ]
    },
    "pythonIndentUnit": 4
   },
   "notebookName": "transactions",
   "widgets": {}
  },
  "language_info": {
   "name": "python"
  }
 },
 "nbformat": 4,
 "nbformat_minor": 0
}
