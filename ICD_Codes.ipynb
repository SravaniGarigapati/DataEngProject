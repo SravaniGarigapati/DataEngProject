{
 "cells": [
  {
   "cell_type": "code",
   "execution_count": 0,
   "metadata": {
    "application/vnd.databricks.v1+cell": {
     "cellMetadata": {
      "byteLimit": 2048000,
      "rowLimit": 10000
     },
     "inputWidgets": {},
     "nuid": "ad12b11e-a5ba-4a2e-b21a-70fd3f5de202",
     "showTitle": false,
     "tableResultSettingsMap": {},
     "title": ""
    }
   },
   "outputs": [],
   "source": [
    "import requests\n",
    "from datetime import datetime\n",
    "from pyspark.sql import SparkSession\n",
    "from pyspark.sql.types import StructType, StructField, StringType, DateType, BooleanType\n",
    "\n",
    "# Initialize Spark session\n",
    "spark = SparkSession.builder.appName(\"ICD Code Extract\").getOrCreate()\n",
    "\n",
    "# Current date for metadata fields\n",
    "current_date = datetime.now().date()\n",
    "\n",
    "# WHO API authentication details\n",
    "client_id = 'c1b31e75-de89-4e9e-9738-87a4779e98e9_b7b0ac50-33a3-4ba5-abc2-4f4b1050ab15'\n",
    "client_secret = 'UtTb8EIodKWT2g3BoIkgGsNbMcv0ClZKJbEij4ySzTs='\n",
    "auth_url = 'https://icdaccessmanagement.who.int/connect/token'\n",
    "base_url = 'https://id.who.int/icd/'\n",
    "\n",
    "# Obtain access token\n",
    "auth_response = requests.post(auth_url, data={\n",
    "    'client_id': client_id,\n",
    "    'client_secret': client_secret,\n",
    "    'grant_type': 'client_credentials'\n",
    "})\n",
    "\n",
    "if auth_response.status_code != 200:\n",
    "    raise Exception(f\"Auth failed: {auth_response.status_code} - {auth_response.text}\")\n",
    "\n",
    "access_token = auth_response.json().get('access_token')\n",
    "\n",
    "# Prepare headers for API calls\n",
    "headers = {\n",
    "    'Authorization': f'Bearer {access_token}',\n",
    "    'API-Version': 'v2',\n",
    "    'Accept-Language': 'en',\n",
    "}\n",
    "\n",
    "# Recursive function to fetch and extract ICD codes\n",
    "def fetch_icd_codes(url):\n",
    "    response = requests.get(url, headers=headers)\n",
    "    if response.status_code != 200:\n",
    "        raise Exception(f\"Failed to fetch data: {response.status_code} - {response.text}\")\n",
    "    return response.json()\n",
    "\n",
    "def extract_codes(url):\n",
    "    data = fetch_icd_codes(url)\n",
    "    codes = []\n",
    "    if 'child' in data:\n",
    "        for child_url in data['child']:\n",
    "            codes.extend(extract_codes(child_url))\n",
    "    else:\n",
    "        if 'code' in data and 'title' in data:\n",
    "            codes.append({\n",
    "                'icd_code': data['code'],\n",
    "                'icd_code_type': 'ICD-10',\n",
    "                'code_description': data['title'].get('@value', ''),\n",
    "                'inserted_date': current_date,\n",
    "                'updated_date': current_date,\n",
    "                'is_current_flag': True\n",
    "            })\n",
    "    return codes\n",
    "\n",
    "# Start URL (example chapter/category)\n",
    "root_url = 'https://id.who.int/icd/release/10/2019/A00-A09'\n",
    "icd_codes = extract_codes(root_url)\n",
    "\n",
    "# Define schema for DataFrame\n",
    "schema = StructType([\n",
    "    StructField(\"icd_code\", StringType(), True),\n",
    "    StructField(\"icd_code_type\", StringType(), True),\n",
    "    StructField(\"code_description\", StringType(), True),\n",
    "    StructField(\"inserted_date\", DateType(), True),\n",
    "    StructField(\"updated_date\", DateType(), True),\n",
    "    StructField(\"is_current_flag\", BooleanType(), True),\n",
    "])\n",
    "\n",
    "# Create DataFrame and write to Parquet\n",
    "df = spark.createDataFrame(icd_codes, schema=schema)\n",
    "df.write.format(\"parquet\").mode(\"overwrite\").save(\"/mnt/bronze/icd_codes/\")\n"
   ]
  },
  {
   "cell_type": "code",
   "execution_count": 0,
   "metadata": {
    "application/vnd.databricks.v1+cell": {
     "cellMetadata": {
      "byteLimit": 2048000,
      "rowLimit": 10000
     },
     "inputWidgets": {},
     "nuid": "d0eec474-bc03-41d0-ba74-517499d843ba",
     "showTitle": false,
     "tableResultSettingsMap": {},
     "title": ""
    }
   },
   "outputs": [],
   "source": [
    "display(df)"
   ]
  }
 ],
 "metadata": {
  "application/vnd.databricks.v1+notebook": {
   "computePreferences": null,
   "dashboards": [],
   "environmentMetadata": {
    "base_environment": "",
    "environment_version": "2"
   },
   "inputWidgetPreferences": null,
   "language": "python",
   "notebookMetadata": {
    "pythonIndentUnit": 4
   },
   "notebookName": "ICD_Codes",
   "widgets": {}
  },
  "language_info": {
   "name": "python"
  }
 },
 "nbformat": 4,
 "nbformat_minor": 0
}
