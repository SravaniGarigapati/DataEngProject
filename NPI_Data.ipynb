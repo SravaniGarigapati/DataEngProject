{
 "cells": [
  {
   "cell_type": "code",
   "execution_count": 0,
   "metadata": {
    "application/vnd.databricks.v1+cell": {
     "cellMetadata": {
      "byteLimit": 2048000,
      "rowLimit": 10000
     },
     "inputWidgets": {},
     "nuid": "8330bc59-d250-4648-9ec1-0b7ee244c8f5",
     "showTitle": false,
     "tableResultSettingsMap": {},
     "title": ""
    }
   },
   "outputs": [],
   "source": [
    "from datetime import date\n",
    "import requests\n",
    "from pyspark.sql import SparkSession\n",
    "\n",
    "# Get current date\n",
    "current_date = date.today()\n",
    "\n",
    "# Initialize Spark session (Databricks notebooks usually have Spark available by default)\n",
    "spark = SparkSession.builder.appName(\"NPI Data\").getOrCreate()\n",
    "\n",
    "# NPI Registry API base URL and query parameters\n",
    "base_url = \"https://npiregistry.cms.hhs.gov/api/\"\n",
    "params = {\n",
    "    \"version\": \"2.1\",\n",
    "    \"state\": \"CA\",\n",
    "    \"city\": \"Los Angeles\",\n",
    "    \"limit\": 20,\n",
    "}\n",
    "\n",
    "# Make initial API request to get list of NPIs\n",
    "response = requests.get(base_url, params=params)\n",
    "\n",
    "if response.status_code == 200:\n",
    "    npi_data = response.json()\n",
    "    npi_list = [result[\"number\"] for result in npi_data.get(\"results\", [])]\n",
    "\n",
    "    detailed_results = []\n",
    "\n",
    "    for npi in npi_list:\n",
    "        detail_params = {\"version\": \"2.1\", \"number\": npi}\n",
    "        detail_response = requests.get(base_url, params=detail_params)\n",
    "\n",
    "        if detail_response.status_code == 200:\n",
    "            detail_data = detail_response.json()\n",
    "            for result in detail_data.get(\"results\", []):\n",
    "                basic_info = result.get(\"basic\", {})\n",
    "                enumeration_type = result.get(\"enumeration_type\", \"\")\n",
    "\n",
    "                if enumeration_type == \"NPI-1\":\n",
    "                    fname = basic_info.get(\"first_name\", \"\")\n",
    "                    lname = basic_info.get(\"last_name\", \"\")\n",
    "                else:\n",
    "                    fname = basic_info.get(\"authorized_official_first_name\", \"\")\n",
    "                    lname = basic_info.get(\"authorized_official_last_name\", \"\")\n",
    "\n",
    "                position = basic_info.get(\"authorized_official_title_or_position\", \"\")\n",
    "                organisation = basic_info.get(\"organization_name\", \"\")\n",
    "                last_updated = basic_info.get(\"last_updated\", \"\")\n",
    "\n",
    "                detailed_results.append({\n",
    "                    \"npi_id\": result.get(\"number\"),\n",
    "                    \"first_name\": fname,\n",
    "                    \"last_name\": lname,\n",
    "                    \"position\": position,\n",
    "                    \"organisation_name\": organisation,\n",
    "                    \"last_updated\": last_updated,\n",
    "                    \"refreshed_at\": current_date,\n",
    "                })\n",
    "\n",
    "    # Save to Parquet and Delta table if data exists\n",
    "    if detailed_results:\n",
    "        df = spark.createDataFrame(detailed_results)\n",
    "        df.write.format(\"parquet\").mode(\"overwrite\").save(\"/mnt/bronze/npi_extract/\")\n",
    "        df.write.format(\"delta\").mode(\"overwrite\").saveAsTable(\"databricksdev.default.npi_extract\")\n",
    "    else:\n",
    "        print(\"No detailed results found.\")\n",
    "else:\n",
    "    print(f\"Failed to fetch data: {response.status_code} - {response.text}\")\n"
   ]
  },
  {
   "cell_type": "code",
   "execution_count": 0,
   "metadata": {
    "application/vnd.databricks.v1+cell": {
     "cellMetadata": {
      "byteLimit": 2048000,
      "rowLimit": 10000
     },
     "inputWidgets": {},
     "nuid": "6379c93b-d870-4883-a00e-ea29d129168e",
     "showTitle": false,
     "tableResultSettingsMap": {},
     "title": ""
    }
   },
   "outputs": [],
   "source": [
    "display(df)"
   ]
  }
 ],
 "metadata": {
  "application/vnd.databricks.v1+notebook": {
   "computePreferences": null,
   "dashboards": [],
   "environmentMetadata": {
    "base_environment": "",
    "environment_version": "2"
   },
   "inputWidgetPreferences": null,
   "language": "python",
   "notebookMetadata": {
    "pythonIndentUnit": 4
   },
   "notebookName": "NPI_Data",
   "widgets": {}
  },
  "language_info": {
   "name": "python"
  }
 },
 "nbformat": 4,
 "nbformat_minor": 0
}
